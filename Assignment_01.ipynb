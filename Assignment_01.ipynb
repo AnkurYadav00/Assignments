{
 "cells": [
  {
   "cell_type": "markdown",
   "id": "2cc34370",
   "metadata": {},
   "source": [
    "1. In the below elements which of them are values or an expression? eg:- values can be integer or string and expressions will be mathematical operators.\n",
    "\n",
    "\n",
    "# * \n",
    "\n",
    "'hello'\n",
    "\n",
    "-87.8\n",
    "\n",
    "-\n",
    "\n",
    "/ \n",
    "\n",
    "+\n",
    "\n",
    "6 \n"
   ]
  },
  {
   "cell_type": "code",
   "execution_count": null,
   "id": "63dd9022",
   "metadata": {},
   "outputs": [],
   "source": [
    "*   = expression\n",
    "\n",
    "'hello' = value\n",
    "\n",
    "-87.8   = value\n",
    "\n",
    "-   = expression\n",
    "\n",
    "/   = expression\n",
    "\n",
    "+   = expression\n",
    "\n",
    "6       = value"
   ]
  },
  {
   "cell_type": "markdown",
   "id": "3bbf4746",
   "metadata": {},
   "source": [
    "2. What is the difference between string and variable?"
   ]
  },
  {
   "cell_type": "code",
   "execution_count": null,
   "id": "a07d08fd",
   "metadata": {},
   "outputs": [],
   "source": [
    "string : it is a datatype which can contain any kind and any number of \n",
    "        characters,special characters and numeric value within single or double quotes during runtime.\n",
    "        \n",
    "variable : entity which holds dataset in main memory by allocating spaces with a variable name. "
   ]
  },
  {
   "cell_type": "markdown",
   "id": "c0475942",
   "metadata": {},
   "source": [
    "3. Describe three different data types."
   ]
  },
  {
   "cell_type": "code",
   "execution_count": null,
   "id": "9208dea4",
   "metadata": {},
   "outputs": [],
   "source": [
    "1. integer         : its a datatype which holds only numeric non-decimal real values.\n",
    "2. string          : datatype which van hold any kind of values within double/single quotes.\n",
    "3. floating point  : datatype which can only hold decimal numerical values.\n",
    "4. complex         : datatype containing complex numbers which have both real and imaginery values.\n",
    "5. boolean         : datatype which contains only True/False value.\n"
   ]
  },
  {
   "cell_type": "markdown",
   "id": "1ffe97ee",
   "metadata": {},
   "source": [
    "4. What is an expression made up of? What do all expressions do?"
   ]
  },
  {
   "cell_type": "code",
   "execution_count": null,
   "id": "73caae42",
   "metadata": {},
   "outputs": [],
   "source": [
    "expression : these are made up of values and operators to perform \n",
    "            certain mathematical/non mathematical opeations based on datatype to get a \n",
    "            desired output values following the required rules."
   ]
  },
  {
   "cell_type": "markdown",
   "id": "ed926b25",
   "metadata": {},
   "source": [
    "5. This assignment statements, like spam = 10. What is the difference between an expression and a statement?"
   ]
  },
  {
   "cell_type": "code",
   "execution_count": null,
   "id": "72c7928b",
   "metadata": {},
   "outputs": [],
   "source": [
    "statments are like a command in programming language where providing a command to get a \n",
    "certain condition/situation to perform desired operations, it alone does not gives any output values on execution.\n",
    "ex: spam = 10 (is an assignment operation which is not providing any output value but creating a situation \n",
    "    where we can use spam variable to perform required operation for desired output.)\n",
    "\n",
    "\n",
    "expressions are operations which provides desired output values under the situations(if required).\n",
    "ex: spam + 30"
   ]
  },
  {
   "cell_type": "markdown",
   "id": "5f08e459",
   "metadata": {},
   "source": [
    "6. After running the following code, what does the variable bacon contain?\n",
    "\n",
    "bacon = 22\n",
    "\n",
    "bacon + 1\n"
   ]
  },
  {
   "cell_type": "code",
   "execution_count": null,
   "id": "997f94d6",
   "metadata": {},
   "outputs": [],
   "source": [
    "22"
   ]
  },
  {
   "cell_type": "code",
   "execution_count": 3,
   "id": "269c0b81",
   "metadata": {},
   "outputs": [],
   "source": [
    "bacon = 22"
   ]
  },
  {
   "cell_type": "code",
   "execution_count": 4,
   "id": "b1b194aa",
   "metadata": {},
   "outputs": [
    {
     "data": {
      "text/plain": [
       "23"
      ]
     },
     "execution_count": 4,
     "metadata": {},
     "output_type": "execute_result"
    }
   ],
   "source": [
    "bacon  + 1"
   ]
  },
  {
   "cell_type": "code",
   "execution_count": 5,
   "id": "2feeb4f8",
   "metadata": {},
   "outputs": [
    {
     "data": {
      "text/plain": [
       "22"
      ]
     },
     "execution_count": 5,
     "metadata": {},
     "output_type": "execute_result"
    }
   ],
   "source": [
    "bacon"
   ]
  },
  {
   "cell_type": "markdown",
   "id": "d82f1007",
   "metadata": {},
   "source": [
    "7. What should the values of the following two terms be?\n",
    "\n",
    "'spam' + 'spamspam'\n",
    "\n",
    "'spam' * 3\n"
   ]
  },
  {
   "cell_type": "code",
   "execution_count": 6,
   "id": "d8e6c819",
   "metadata": {},
   "outputs": [
    {
     "data": {
      "text/plain": [
       "'spamspamspam'"
      ]
     },
     "execution_count": 6,
     "metadata": {},
     "output_type": "execute_result"
    }
   ],
   "source": [
    "'spam'+'spamspam'"
   ]
  },
  {
   "cell_type": "code",
   "execution_count": 7,
   "id": "8d99e157",
   "metadata": {},
   "outputs": [
    {
     "data": {
      "text/plain": [
       "'spamspamspam'"
      ]
     },
     "execution_count": 7,
     "metadata": {},
     "output_type": "execute_result"
    }
   ],
   "source": [
    "'spam'*3"
   ]
  },
  {
   "cell_type": "markdown",
   "id": "d08913c7",
   "metadata": {},
   "source": [
    "8. Why is eggs a valid variable name while 100 is invalid?"
   ]
  },
  {
   "cell_type": "code",
   "execution_count": null,
   "id": "d5d55a91",
   "metadata": {},
   "outputs": [],
   "source": [
    "variable name cannot have any special characters expect '_' and only digits, cannot start with digit or numerical value \n",
    "but it can contain characters and combination of numbers + characters."
   ]
  },
  {
   "cell_type": "code",
   "execution_count": 26,
   "id": "26ccccee",
   "metadata": {},
   "outputs": [
    {
     "ename": "SyntaxError",
     "evalue": "cannot assign to literal (Temp/ipykernel_10160/1886618272.py, line 1)",
     "output_type": "error",
     "traceback": [
      "\u001b[1;36m  File \u001b[1;32m\"C:\\Users\\ANKURY~1\\AppData\\Local\\Temp/ipykernel_10160/1886618272.py\"\u001b[1;36m, line \u001b[1;32m1\u001b[0m\n\u001b[1;33m    100 = 'a'\u001b[0m\n\u001b[1;37m    ^\u001b[0m\n\u001b[1;31mSyntaxError\u001b[0m\u001b[1;31m:\u001b[0m cannot assign to literal\n"
     ]
    }
   ],
   "source": [
    "100 = 'a'"
   ]
  },
  {
   "cell_type": "markdown",
   "id": "bfeecfa1",
   "metadata": {},
   "source": [
    "9. What three functions can be used to get the integer, floating-point number, or string version of a value?"
   ]
  },
  {
   "cell_type": "code",
   "execution_count": 27,
   "id": "800b3b82",
   "metadata": {},
   "outputs": [
    {
     "data": {
      "text/plain": [
       "0.0"
      ]
     },
     "execution_count": 27,
     "metadata": {},
     "output_type": "execute_result"
    }
   ],
   "source": [
    "float()"
   ]
  },
  {
   "cell_type": "code",
   "execution_count": 28,
   "id": "1aa15887",
   "metadata": {},
   "outputs": [
    {
     "data": {
      "text/plain": [
       "''"
      ]
     },
     "execution_count": 28,
     "metadata": {},
     "output_type": "execute_result"
    }
   ],
   "source": [
    "str()"
   ]
  },
  {
   "cell_type": "code",
   "execution_count": 29,
   "id": "266d2400",
   "metadata": {},
   "outputs": [
    {
     "data": {
      "text/plain": [
       "0"
      ]
     },
     "execution_count": 29,
     "metadata": {},
     "output_type": "execute_result"
    }
   ],
   "source": [
    "int()"
   ]
  },
  {
   "cell_type": "markdown",
   "id": "ffd9ac9d",
   "metadata": {},
   "source": [
    "10. Why does this expression cause an error? How can you fix it?\n",
    "\n",
    "'I have eaten ' + 99 + ' burritos.'\n"
   ]
  },
  {
   "cell_type": "code",
   "execution_count": null,
   "id": "6f1ac503",
   "metadata": {},
   "outputs": [],
   "source": [
    "different datatypes(like string and integer) cannot be added and concatenated, for concatenation datatype must be same.\n",
    "\n",
    "To avoid the error we need to make dataype same."
   ]
  },
  {
   "cell_type": "code",
   "execution_count": 31,
   "id": "0c22d821",
   "metadata": {},
   "outputs": [
    {
     "data": {
      "text/plain": [
       "'I have eaten 99 burritos.'"
      ]
     },
     "execution_count": 31,
     "metadata": {},
     "output_type": "execute_result"
    }
   ],
   "source": [
    "'I have eaten ' + str(99) + ' burritos.'"
   ]
  },
  {
   "cell_type": "code",
   "execution_count": null,
   "id": "331a91d0",
   "metadata": {},
   "outputs": [],
   "source": []
  }
 ],
 "metadata": {
  "kernelspec": {
   "display_name": "Python 3 (ipykernel)",
   "language": "python",
   "name": "python3"
  },
  "language_info": {
   "codemirror_mode": {
    "name": "ipython",
    "version": 3
   },
   "file_extension": ".py",
   "mimetype": "text/x-python",
   "name": "python",
   "nbconvert_exporter": "python",
   "pygments_lexer": "ipython3",
   "version": "3.9.7"
  }
 },
 "nbformat": 4,
 "nbformat_minor": 5
}
